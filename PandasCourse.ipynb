{
 "cells": [
  {
   "cell_type": "code",
   "execution_count": 1,
   "metadata": {},
   "outputs": [],
   "source": [
    "import pandas as pd"
   ]
  },
  {
   "cell_type": "markdown",
   "metadata": {},
   "source": [
    "testa"
   ]
  },
  {
   "cell_type": "code",
   "execution_count": 2,
   "metadata": {},
   "outputs": [
    {
     "data": {
      "text/html": [
       "<div>\n",
       "<style scoped>\n",
       "    .dataframe tbody tr th:only-of-type {\n",
       "        vertical-align: middle;\n",
       "    }\n",
       "\n",
       "    .dataframe tbody tr th {\n",
       "        vertical-align: top;\n",
       "    }\n",
       "\n",
       "    .dataframe thead th {\n",
       "        text-align: right;\n",
       "    }\n",
       "</style>\n",
       "<table border=\"1\" class=\"dataframe\">\n",
       "  <thead>\n",
       "    <tr style=\"text-align: right;\">\n",
       "      <th></th>\n",
       "      <th>City</th>\n",
       "      <th>Edition</th>\n",
       "      <th>Sport</th>\n",
       "      <th>Discipline</th>\n",
       "      <th>Athlete</th>\n",
       "      <th>NOC</th>\n",
       "      <th>Gender</th>\n",
       "      <th>Event</th>\n",
       "      <th>Event_gender</th>\n",
       "      <th>Medal</th>\n",
       "    </tr>\n",
       "  </thead>\n",
       "  <tbody>\n",
       "    <tr>\n",
       "      <td>0</td>\n",
       "      <td>Athens</td>\n",
       "      <td>1896</td>\n",
       "      <td>Aquatics</td>\n",
       "      <td>Swimming</td>\n",
       "      <td>HAJOS, Alfred</td>\n",
       "      <td>HUN</td>\n",
       "      <td>Men</td>\n",
       "      <td>100m freestyle</td>\n",
       "      <td>M</td>\n",
       "      <td>Gold</td>\n",
       "    </tr>\n",
       "    <tr>\n",
       "      <td>1</td>\n",
       "      <td>Athens</td>\n",
       "      <td>1896</td>\n",
       "      <td>Aquatics</td>\n",
       "      <td>Swimming</td>\n",
       "      <td>HERSCHMANN, Otto</td>\n",
       "      <td>AUT</td>\n",
       "      <td>Men</td>\n",
       "      <td>100m freestyle</td>\n",
       "      <td>M</td>\n",
       "      <td>Silver</td>\n",
       "    </tr>\n",
       "    <tr>\n",
       "      <td>2</td>\n",
       "      <td>Athens</td>\n",
       "      <td>1896</td>\n",
       "      <td>Aquatics</td>\n",
       "      <td>Swimming</td>\n",
       "      <td>DRIVAS, Dimitrios</td>\n",
       "      <td>GRE</td>\n",
       "      <td>Men</td>\n",
       "      <td>100m freestyle for sailors</td>\n",
       "      <td>M</td>\n",
       "      <td>Bronze</td>\n",
       "    </tr>\n",
       "    <tr>\n",
       "      <td>3</td>\n",
       "      <td>Athens</td>\n",
       "      <td>1896</td>\n",
       "      <td>Aquatics</td>\n",
       "      <td>Swimming</td>\n",
       "      <td>MALOKINIS, Ioannis</td>\n",
       "      <td>GRE</td>\n",
       "      <td>Men</td>\n",
       "      <td>100m freestyle for sailors</td>\n",
       "      <td>M</td>\n",
       "      <td>Gold</td>\n",
       "    </tr>\n",
       "    <tr>\n",
       "      <td>4</td>\n",
       "      <td>Athens</td>\n",
       "      <td>1896</td>\n",
       "      <td>Aquatics</td>\n",
       "      <td>Swimming</td>\n",
       "      <td>CHASAPIS, Spiridon</td>\n",
       "      <td>GRE</td>\n",
       "      <td>Men</td>\n",
       "      <td>100m freestyle for sailors</td>\n",
       "      <td>M</td>\n",
       "      <td>Silver</td>\n",
       "    </tr>\n",
       "  </tbody>\n",
       "</table>\n",
       "</div>"
      ],
      "text/plain": [
       "     City  Edition     Sport Discipline             Athlete  NOC Gender  \\\n",
       "0  Athens     1896  Aquatics   Swimming       HAJOS, Alfred  HUN    Men   \n",
       "1  Athens     1896  Aquatics   Swimming    HERSCHMANN, Otto  AUT    Men   \n",
       "2  Athens     1896  Aquatics   Swimming   DRIVAS, Dimitrios  GRE    Men   \n",
       "3  Athens     1896  Aquatics   Swimming  MALOKINIS, Ioannis  GRE    Men   \n",
       "4  Athens     1896  Aquatics   Swimming  CHASAPIS, Spiridon  GRE    Men   \n",
       "\n",
       "                        Event Event_gender   Medal  \n",
       "0              100m freestyle            M    Gold  \n",
       "1              100m freestyle            M  Silver  \n",
       "2  100m freestyle for sailors            M  Bronze  \n",
       "3  100m freestyle for sailors            M    Gold  \n",
       "4  100m freestyle for sailors            M  Silver  "
      ]
     },
     "execution_count": 2,
     "metadata": {},
     "output_type": "execute_result"
    }
   ],
   "source": [
    "oo=pd.read_csv(\"Desktop/olympics.csv\",skiprows=4)\n",
    "oo.head()"
   ]
  },
  {
   "cell_type": "code",
   "execution_count": 3,
   "metadata": {},
   "outputs": [
    {
     "data": {
      "text/html": [
       "<div>\n",
       "<style scoped>\n",
       "    .dataframe tbody tr th:only-of-type {\n",
       "        vertical-align: middle;\n",
       "    }\n",
       "\n",
       "    .dataframe tbody tr th {\n",
       "        vertical-align: top;\n",
       "    }\n",
       "\n",
       "    .dataframe thead th {\n",
       "        text-align: right;\n",
       "    }\n",
       "</style>\n",
       "<table border=\"1\" class=\"dataframe\">\n",
       "  <thead>\n",
       "    <tr style=\"text-align: right;\">\n",
       "      <th></th>\n",
       "      <th>City</th>\n",
       "      <th>NOC</th>\n",
       "      <th>Athlete</th>\n",
       "    </tr>\n",
       "  </thead>\n",
       "  <tbody>\n",
       "    <tr>\n",
       "      <td>0</td>\n",
       "      <td>Athens</td>\n",
       "      <td>HUN</td>\n",
       "      <td>HAJOS, Alfred</td>\n",
       "    </tr>\n",
       "    <tr>\n",
       "      <td>1</td>\n",
       "      <td>Athens</td>\n",
       "      <td>AUT</td>\n",
       "      <td>HERSCHMANN, Otto</td>\n",
       "    </tr>\n",
       "    <tr>\n",
       "      <td>2</td>\n",
       "      <td>Athens</td>\n",
       "      <td>GRE</td>\n",
       "      <td>DRIVAS, Dimitrios</td>\n",
       "    </tr>\n",
       "    <tr>\n",
       "      <td>3</td>\n",
       "      <td>Athens</td>\n",
       "      <td>GRE</td>\n",
       "      <td>MALOKINIS, Ioannis</td>\n",
       "    </tr>\n",
       "    <tr>\n",
       "      <td>4</td>\n",
       "      <td>Athens</td>\n",
       "      <td>GRE</td>\n",
       "      <td>CHASAPIS, Spiridon</td>\n",
       "    </tr>\n",
       "    <tr>\n",
       "      <td>...</td>\n",
       "      <td>...</td>\n",
       "      <td>...</td>\n",
       "      <td>...</td>\n",
       "    </tr>\n",
       "    <tr>\n",
       "      <td>29211</td>\n",
       "      <td>Beijing</td>\n",
       "      <td>GER</td>\n",
       "      <td>ENGLICH, Mirko</td>\n",
       "    </tr>\n",
       "    <tr>\n",
       "      <td>29212</td>\n",
       "      <td>Beijing</td>\n",
       "      <td>LTU</td>\n",
       "      <td>MIZGAITIS, Mindaugas</td>\n",
       "    </tr>\n",
       "    <tr>\n",
       "      <td>29213</td>\n",
       "      <td>Beijing</td>\n",
       "      <td>ARM</td>\n",
       "      <td>PATRIKEEV, Yuri</td>\n",
       "    </tr>\n",
       "    <tr>\n",
       "      <td>29214</td>\n",
       "      <td>Beijing</td>\n",
       "      <td>CUB</td>\n",
       "      <td>LOPEZ, Mijain</td>\n",
       "    </tr>\n",
       "    <tr>\n",
       "      <td>29215</td>\n",
       "      <td>Beijing</td>\n",
       "      <td>RUS</td>\n",
       "      <td>BAROEV, Khasan</td>\n",
       "    </tr>\n",
       "  </tbody>\n",
       "</table>\n",
       "<p>29216 rows × 3 columns</p>\n",
       "</div>"
      ],
      "text/plain": [
       "          City  NOC               Athlete\n",
       "0       Athens  HUN         HAJOS, Alfred\n",
       "1       Athens  AUT      HERSCHMANN, Otto\n",
       "2       Athens  GRE     DRIVAS, Dimitrios\n",
       "3       Athens  GRE    MALOKINIS, Ioannis\n",
       "4       Athens  GRE    CHASAPIS, Spiridon\n",
       "...        ...  ...                   ...\n",
       "29211  Beijing  GER        ENGLICH, Mirko\n",
       "29212  Beijing  LTU  MIZGAITIS, Mindaugas\n",
       "29213  Beijing  ARM       PATRIKEEV, Yuri\n",
       "29214  Beijing  CUB         LOPEZ, Mijain\n",
       "29215  Beijing  RUS        BAROEV, Khasan\n",
       "\n",
       "[29216 rows x 3 columns]"
      ]
     },
     "execution_count": 3,
     "metadata": {},
     "output_type": "execute_result"
    }
   ],
   "source": [
    "oo['NOC']\n",
    "oo.NOC\n",
    "type(oo.NOC)\n",
    "oo[['City','NOC','Athlete']]"
   ]
  },
  {
   "cell_type": "code",
   "execution_count": 4,
   "metadata": {},
   "outputs": [
    {
     "name": "stdout",
     "output_type": "stream",
     "text": [
      "<class 'pandas.core.frame.DataFrame'>\n",
      "RangeIndex: 29216 entries, 0 to 29215\n",
      "Data columns (total 10 columns):\n",
      "City            29216 non-null object\n",
      "Edition         29216 non-null int64\n",
      "Sport           29216 non-null object\n",
      "Discipline      29216 non-null object\n",
      "Athlete         29216 non-null object\n",
      "NOC             29216 non-null object\n",
      "Gender          29216 non-null object\n",
      "Event           29216 non-null object\n",
      "Event_gender    29216 non-null object\n",
      "Medal           29216 non-null object\n",
      "dtypes: int64(1), object(9)\n",
      "memory usage: 2.2+ MB\n"
     ]
    }
   ],
   "source": [
    "oo.info()\n"
   ]
  },
  {
   "cell_type": "code",
   "execution_count": 19,
   "metadata": {},
   "outputs": [
    {
     "data": {
      "text/html": [
       "<div>\n",
       "<style scoped>\n",
       "    .dataframe tbody tr th:only-of-type {\n",
       "        vertical-align: middle;\n",
       "    }\n",
       "\n",
       "    .dataframe tbody tr th {\n",
       "        vertical-align: top;\n",
       "    }\n",
       "\n",
       "    .dataframe thead th {\n",
       "        text-align: right;\n",
       "    }\n",
       "</style>\n",
       "<table border=\"1\" class=\"dataframe\">\n",
       "  <thead>\n",
       "    <tr style=\"text-align: right;\">\n",
       "      <th></th>\n",
       "      <th>City</th>\n",
       "      <th>Edition</th>\n",
       "      <th>Sport</th>\n",
       "      <th>Discipline</th>\n",
       "      <th>Athlete</th>\n",
       "      <th>NOC</th>\n",
       "      <th>Gender</th>\n",
       "      <th>Event</th>\n",
       "      <th>Event_gender</th>\n",
       "      <th>Medal</th>\n",
       "    </tr>\n",
       "  </thead>\n",
       "  <tbody>\n",
       "    <tr>\n",
       "      <td>6427</td>\n",
       "      <td>Berlin</td>\n",
       "      <td>1936</td>\n",
       "      <td>Athletics</td>\n",
       "      <td>Athletics</td>\n",
       "      <td>OWENS, Jesse</td>\n",
       "      <td>USA</td>\n",
       "      <td>Men</td>\n",
       "      <td>100m</td>\n",
       "      <td>M</td>\n",
       "      <td>Gold</td>\n",
       "    </tr>\n",
       "    <tr>\n",
       "      <td>6439</td>\n",
       "      <td>Berlin</td>\n",
       "      <td>1936</td>\n",
       "      <td>Athletics</td>\n",
       "      <td>Athletics</td>\n",
       "      <td>OWENS, Jesse</td>\n",
       "      <td>USA</td>\n",
       "      <td>Men</td>\n",
       "      <td>200m</td>\n",
       "      <td>M</td>\n",
       "      <td>Gold</td>\n",
       "    </tr>\n",
       "    <tr>\n",
       "      <td>6456</td>\n",
       "      <td>Berlin</td>\n",
       "      <td>1936</td>\n",
       "      <td>Athletics</td>\n",
       "      <td>Athletics</td>\n",
       "      <td>OWENS, Jesse</td>\n",
       "      <td>USA</td>\n",
       "      <td>Men</td>\n",
       "      <td>4x100m relay</td>\n",
       "      <td>M</td>\n",
       "      <td>Gold</td>\n",
       "    </tr>\n",
       "    <tr>\n",
       "      <td>6523</td>\n",
       "      <td>Berlin</td>\n",
       "      <td>1936</td>\n",
       "      <td>Athletics</td>\n",
       "      <td>Athletics</td>\n",
       "      <td>OWENS, Jesse</td>\n",
       "      <td>USA</td>\n",
       "      <td>Men</td>\n",
       "      <td>long jump</td>\n",
       "      <td>M</td>\n",
       "      <td>Gold</td>\n",
       "    </tr>\n",
       "  </tbody>\n",
       "</table>\n",
       "</div>"
      ],
      "text/plain": [
       "        City  Edition      Sport Discipline       Athlete  NOC Gender  \\\n",
       "6427  Berlin     1936  Athletics  Athletics  OWENS, Jesse  USA    Men   \n",
       "6439  Berlin     1936  Athletics  Athletics  OWENS, Jesse  USA    Men   \n",
       "6456  Berlin     1936  Athletics  Athletics  OWENS, Jesse  USA    Men   \n",
       "6523  Berlin     1936  Athletics  Athletics  OWENS, Jesse  USA    Men   \n",
       "\n",
       "             Event Event_gender Medal  \n",
       "6427          100m            M  Gold  \n",
       "6439          200m            M  Gold  \n",
       "6456  4x100m relay            M  Gold  \n",
       "6523     long jump            M  Gold  "
      ]
     },
     "execution_count": 19,
     "metadata": {},
     "output_type": "execute_result"
    }
   ],
   "source": [
    "oo[(oo.Athlete.str.contains(\"OWENS, Jesse\")) & (oo.Medal == \"Gold\")]"
   ]
  },
  {
   "cell_type": "code",
   "execution_count": 51,
   "metadata": {},
   "outputs": [
    {
     "data": {
      "text/plain": [
       "CHN    2\n",
       "INA    2\n",
       "DEN    1\n",
       "Name: NOC, dtype: int64"
      ]
     },
     "execution_count": 51,
     "metadata": {},
     "output_type": "execute_result"
    }
   ],
   "source": [
    "oo[(oo.Discipline.str.contains(\"Badm\")) & (oo.Gender == \"Men\") & (oo.Medal==\"Gold\")].NOC.value_counts()\n",
    "oo[(oo.Discipline.str.contains(\"Badm\")) & (oo.Gender == \"Men\") & (oo.Medal==\"Gold\") & (oo.Event == \"singles\")].NOC.value_counts()"
   ]
  },
  {
   "cell_type": "code",
   "execution_count": 40,
   "metadata": {},
   "outputs": [
    {
     "data": {
      "text/plain": [
       "USA    1837\n",
       "AUS     762\n",
       "GER     691\n",
       "CHN     679\n",
       "RUS     638\n",
       "       ... \n",
       "PAN       1\n",
       "KUW       1\n",
       "TGA       1\n",
       "SRI       1\n",
       "AHO       1\n",
       "Name: NOC, Length: 124, dtype: int64"
      ]
     },
     "execution_count": 40,
     "metadata": {},
     "output_type": "execute_result"
    }
   ],
   "source": [
    "oo[(oo.Edition>1983) & (oo.Edition<2009)].NOC.value_counts()"
   ]
  },
  {
   "cell_type": "code",
   "execution_count": 68,
   "metadata": {},
   "outputs": [
    {
     "data": {
      "text/html": [
       "<div>\n",
       "<style scoped>\n",
       "    .dataframe tbody tr th:only-of-type {\n",
       "        vertical-align: middle;\n",
       "    }\n",
       "\n",
       "    .dataframe tbody tr th {\n",
       "        vertical-align: top;\n",
       "    }\n",
       "\n",
       "    .dataframe thead th {\n",
       "        text-align: right;\n",
       "    }\n",
       "</style>\n",
       "<table border=\"1\" class=\"dataframe\">\n",
       "  <thead>\n",
       "    <tr style=\"text-align: right;\">\n",
       "      <th></th>\n",
       "      <th>City</th>\n",
       "      <th>Edition</th>\n",
       "      <th>Athlete</th>\n",
       "      <th>NOC</th>\n",
       "    </tr>\n",
       "  </thead>\n",
       "  <tbody>\n",
       "    <tr>\n",
       "      <td>13</td>\n",
       "      <td>Athens</td>\n",
       "      <td>1896</td>\n",
       "      <td>BURKE, Thomas</td>\n",
       "      <td>USA</td>\n",
       "    </tr>\n",
       "    <tr>\n",
       "      <td>231</td>\n",
       "      <td>Paris</td>\n",
       "      <td>1900</td>\n",
       "      <td>JARVIS, Francis</td>\n",
       "      <td>USA</td>\n",
       "    </tr>\n",
       "    <tr>\n",
       "      <td>737</td>\n",
       "      <td>St Louis</td>\n",
       "      <td>1904</td>\n",
       "      <td>HAHN, Archie</td>\n",
       "      <td>USA</td>\n",
       "    </tr>\n",
       "    <tr>\n",
       "      <td>1191</td>\n",
       "      <td>London</td>\n",
       "      <td>1908</td>\n",
       "      <td>WALKER, Reginald</td>\n",
       "      <td>RSA</td>\n",
       "    </tr>\n",
       "    <tr>\n",
       "      <td>2022</td>\n",
       "      <td>Stockholm</td>\n",
       "      <td>1912</td>\n",
       "      <td>CRAIG, Ralph</td>\n",
       "      <td>USA</td>\n",
       "    </tr>\n",
       "    <tr>\n",
       "      <td>2996</td>\n",
       "      <td>Antwerp</td>\n",
       "      <td>1920</td>\n",
       "      <td>PADDOCK, Charles</td>\n",
       "      <td>USA</td>\n",
       "    </tr>\n",
       "    <tr>\n",
       "      <td>4236</td>\n",
       "      <td>Paris</td>\n",
       "      <td>1924</td>\n",
       "      <td>ABRAHAMS, Harold</td>\n",
       "      <td>GBR</td>\n",
       "    </tr>\n",
       "    <tr>\n",
       "      <td>5095</td>\n",
       "      <td>Amsterdam</td>\n",
       "      <td>1928</td>\n",
       "      <td>WILLIAMS, Percy</td>\n",
       "      <td>CAN</td>\n",
       "    </tr>\n",
       "    <tr>\n",
       "      <td>5806</td>\n",
       "      <td>Los Angeles</td>\n",
       "      <td>1932</td>\n",
       "      <td>TOLAN, Eddie</td>\n",
       "      <td>USA</td>\n",
       "    </tr>\n",
       "    <tr>\n",
       "      <td>6427</td>\n",
       "      <td>Berlin</td>\n",
       "      <td>1936</td>\n",
       "      <td>OWENS, Jesse</td>\n",
       "      <td>USA</td>\n",
       "    </tr>\n",
       "    <tr>\n",
       "      <td>7302</td>\n",
       "      <td>London</td>\n",
       "      <td>1948</td>\n",
       "      <td>DILLARD, Harrison</td>\n",
       "      <td>USA</td>\n",
       "    </tr>\n",
       "    <tr>\n",
       "      <td>8121</td>\n",
       "      <td>Helsinki</td>\n",
       "      <td>1952</td>\n",
       "      <td>REMIGINO, Lindy</td>\n",
       "      <td>USA</td>\n",
       "    </tr>\n",
       "    <tr>\n",
       "      <td>9009</td>\n",
       "      <td>Melbourne / Stockholm</td>\n",
       "      <td>1956</td>\n",
       "      <td>MORROW, Robert Joseph</td>\n",
       "      <td>USA</td>\n",
       "    </tr>\n",
       "    <tr>\n",
       "      <td>9924</td>\n",
       "      <td>Rome</td>\n",
       "      <td>1960</td>\n",
       "      <td>HARY, Armin</td>\n",
       "      <td>EUA</td>\n",
       "    </tr>\n",
       "    <tr>\n",
       "      <td>10823</td>\n",
       "      <td>Tokyo</td>\n",
       "      <td>1964</td>\n",
       "      <td>HAYES, Robert</td>\n",
       "      <td>USA</td>\n",
       "    </tr>\n",
       "    <tr>\n",
       "      <td>11865</td>\n",
       "      <td>Mexico</td>\n",
       "      <td>1968</td>\n",
       "      <td>HINES, James Ray</td>\n",
       "      <td>USA</td>\n",
       "    </tr>\n",
       "    <tr>\n",
       "      <td>12902</td>\n",
       "      <td>Munich</td>\n",
       "      <td>1972</td>\n",
       "      <td>BORZOV, Valery</td>\n",
       "      <td>URS</td>\n",
       "    </tr>\n",
       "    <tr>\n",
       "      <td>14069</td>\n",
       "      <td>Montreal</td>\n",
       "      <td>1976</td>\n",
       "      <td>CRAWFORD, Hasely</td>\n",
       "      <td>TRI</td>\n",
       "    </tr>\n",
       "    <tr>\n",
       "      <td>15374</td>\n",
       "      <td>Moscow</td>\n",
       "      <td>1980</td>\n",
       "      <td>WELLS, Allan</td>\n",
       "      <td>GBR</td>\n",
       "    </tr>\n",
       "    <tr>\n",
       "      <td>16794</td>\n",
       "      <td>Los Angeles</td>\n",
       "      <td>1984</td>\n",
       "      <td>LEWIS, Carl</td>\n",
       "      <td>USA</td>\n",
       "    </tr>\n",
       "    <tr>\n",
       "      <td>18284</td>\n",
       "      <td>Seoul</td>\n",
       "      <td>1988</td>\n",
       "      <td>LEWIS, Carl</td>\n",
       "      <td>USA</td>\n",
       "    </tr>\n",
       "    <tr>\n",
       "      <td>19859</td>\n",
       "      <td>Barcelona</td>\n",
       "      <td>1992</td>\n",
       "      <td>CHRISTIE, Linford</td>\n",
       "      <td>GBR</td>\n",
       "    </tr>\n",
       "    <tr>\n",
       "      <td>21598</td>\n",
       "      <td>Atlanta</td>\n",
       "      <td>1996</td>\n",
       "      <td>BAILEY, Donovan</td>\n",
       "      <td>CAN</td>\n",
       "    </tr>\n",
       "    <tr>\n",
       "      <td>23521</td>\n",
       "      <td>Sydney</td>\n",
       "      <td>2000</td>\n",
       "      <td>GREENE, Maurice</td>\n",
       "      <td>USA</td>\n",
       "    </tr>\n",
       "    <tr>\n",
       "      <td>25539</td>\n",
       "      <td>Athens</td>\n",
       "      <td>2004</td>\n",
       "      <td>GATLIN, Justin</td>\n",
       "      <td>USA</td>\n",
       "    </tr>\n",
       "    <tr>\n",
       "      <td>27552</td>\n",
       "      <td>Beijing</td>\n",
       "      <td>2008</td>\n",
       "      <td>BOLT, Usain</td>\n",
       "      <td>JAM</td>\n",
       "    </tr>\n",
       "  </tbody>\n",
       "</table>\n",
       "</div>"
      ],
      "text/plain": [
       "                        City  Edition                Athlete  NOC\n",
       "13                    Athens     1896          BURKE, Thomas  USA\n",
       "231                    Paris     1900        JARVIS, Francis  USA\n",
       "737                 St Louis     1904           HAHN, Archie  USA\n",
       "1191                  London     1908       WALKER, Reginald  RSA\n",
       "2022               Stockholm     1912           CRAIG, Ralph  USA\n",
       "2996                 Antwerp     1920       PADDOCK, Charles  USA\n",
       "4236                   Paris     1924       ABRAHAMS, Harold  GBR\n",
       "5095               Amsterdam     1928        WILLIAMS, Percy  CAN\n",
       "5806             Los Angeles     1932           TOLAN, Eddie  USA\n",
       "6427                  Berlin     1936           OWENS, Jesse  USA\n",
       "7302                  London     1948      DILLARD, Harrison  USA\n",
       "8121                Helsinki     1952        REMIGINO, Lindy  USA\n",
       "9009   Melbourne / Stockholm     1956  MORROW, Robert Joseph  USA\n",
       "9924                    Rome     1960            HARY, Armin  EUA\n",
       "10823                  Tokyo     1964          HAYES, Robert  USA\n",
       "11865                 Mexico     1968       HINES, James Ray  USA\n",
       "12902                 Munich     1972         BORZOV, Valery  URS\n",
       "14069               Montreal     1976       CRAWFORD, Hasely  TRI\n",
       "15374                 Moscow     1980           WELLS, Allan  GBR\n",
       "16794            Los Angeles     1984            LEWIS, Carl  USA\n",
       "18284                  Seoul     1988            LEWIS, Carl  USA\n",
       "19859              Barcelona     1992      CHRISTIE, Linford  GBR\n",
       "21598                Atlanta     1996        BAILEY, Donovan  CAN\n",
       "23521                 Sydney     2000        GREENE, Maurice  USA\n",
       "25539                 Athens     2004         GATLIN, Justin  USA\n",
       "27552                Beijing     2008            BOLT, Usain  JAM"
      ]
     },
     "execution_count": 68,
     "metadata": {},
     "output_type": "execute_result"
    }
   ],
   "source": [
    "oo[(oo.Gender == \"Men\") & (oo.Medal==\"Gold\")  & (oo.Event == \"100m\" )][['City',\"Edition\",\"Athlete\",\"NOC\"]].sort_values(\"Edition\")"
   ]
  },
  {
   "cell_type": "code",
   "execution_count": 70,
   "metadata": {},
   "outputs": [],
   "source": [
    "import nltk"
   ]
  },
  {
   "cell_type": "code",
   "execution_count": 71,
   "metadata": {},
   "outputs": [],
   "source": [
    "import matplotlib.pyplot as plt\n",
    "%matplotlib inline\n"
   ]
  },
  {
   "cell_type": "code",
   "execution_count": 83,
   "metadata": {},
   "outputs": [
    {
     "data": {
      "text/plain": [
       "<matplotlib.axes._subplots.AxesSubplot at 0x1a228eaa10>"
      ]
     },
     "execution_count": 83,
     "metadata": {},
     "output_type": "execute_result"
    },
    {
     "data": {
      "image/png": "[encoded data removed]",
      "text/plain": [
       "<Figure size 432x288 with 1 Axes>"
      ]
     },
     "metadata": {
      "needs_background": "light"
     },
     "output_type": "display_data"
    }
   ],
   "source": [
    "chm=oo[(oo.NOC == \"CHN\") & (oo.Edition == 2008)]\n",
    "chm.Medal.value_counts().plot(kind=\"bar\")"
   ]
  },
  {
   "cell_type": "code",
   "execution_count": 84,
   "metadata": {},
   "outputs": [],
   "source": [
    "import seaborn as sns"
   ]
  },
  {
   "cell_type": "code",
   "execution_count": 87,
   "metadata": {},
   "outputs": [
    {
     "data": {
      "text/plain": [
       "<matplotlib.axes._subplots.AxesSubplot at 0x1a2112bc50>"
      ]
     },
     "execution_count": 87,
     "metadata": {},
     "output_type": "execute_result"
    },
    {
     "data": {
      "image/png": "[encoded data removed]",
      "text/plain": [
       "<Figure size 432x288 with 1 Axes>"
      ]
     },
     "metadata": {
      "needs_background": "light"
     },
     "output_type": "display_data"
    }
   ],
   "source": [
    "sns.countplot(x=\"Medal\",data=chm)"
   ]
  },
  {
   "cell_type": "code",
   "execution_count": 88,
   "metadata": {},
   "outputs": [
    {
     "data": {
      "text/plain": [
       "<matplotlib.axes._subplots.AxesSubplot at 0x1a21151d90>"
      ]
     },
     "execution_count": 88,
     "metadata": {},
     "output_type": "execute_result"
    },
    {
     "data": {
      "image/png": "[encoded data removed]",
      "text/plain": [
       "<Figure size 432x288 with 1 Axes>"
      ]
     },
     "metadata": {
      "needs_background": "light"
     },
     "output_type": "display_data"
    }
   ],
   "source": [
    "chmm=oo[(oo.NOC == \"CHN\") & (oo.Edition == 2008) & (oo.Gender==\"Men\")]\n",
    "chmm.Medal.value_counts().plot(kind=\"bar\")"
   ]
  },
  {
   "cell_type": "code",
   "execution_count": 89,
   "metadata": {},
   "outputs": [
    {
     "data": {
      "text/plain": [
       "<matplotlib.axes._subplots.AxesSubplot at 0x1a20ee6ad0>"
      ]
     },
     "execution_count": 89,
     "metadata": {},
     "output_type": "execute_result"
    },
    {
     "data": {
      "image/png": "[encoded data removed]",
      "text/plain": [
       "<Figure size 432x288 with 1 Axes>"
      ]
     },
     "metadata": {
      "needs_background": "light"
     },
     "output_type": "display_data"
    }
   ],
   "source": [
    "chmf=oo[(oo.NOC == \"CHN\") & (oo.Edition == 2008) & (oo.Gender==\"Women\")]\n",
    "chmf.Medal.value_counts().plot(kind=\"bar\")"
   ]
  },
  {
   "cell_type": "code",
   "execution_count": 90,
   "metadata": {},
   "outputs": [
    {
     "data": {
      "text/plain": [
       "<matplotlib.axes._subplots.AxesSubplot at 0x11bfd46d0>"
      ]
     },
     "execution_count": 90,
     "metadata": {},
     "output_type": "execute_result"
    },
    {
     "data": {
      "image/png": "[encoded data removed]",
      "text/plain": [
       "<Figure size 432x288 with 1 Axes>"
      ]
     },
     "metadata": {
      "needs_background": "light"
     },
     "output_type": "display_data"
    }
   ],
   "source": [
    "sns.countplot(x=\"Medal\",data=chm,hue=\"Gender\")"
   ]
  },
  {
   "cell_type": "code",
   "execution_count": 109,
   "metadata": {},
   "outputs": [
    {
     "data": {
      "text/plain": [
       "<matplotlib.axes._subplots.AxesSubplot at 0x11cd63190>"
      ]
     },
     "execution_count": 109,
     "metadata": {},
     "output_type": "execute_result"
    },
    {
     "data": {
      "image/png": "[encoded data removed]",
      "text/plain": [
       "<Figure size 432x288 with 1 Axes>"
      ]
     },
     "metadata": {
      "needs_background": "light"
     },
     "output_type": "display_data"
    }
   ],
   "source": [
    "sns.countplot(y=\"Edition\", data=oo)"
   ]
  },
  {
   "cell_type": "code",
   "execution_count": 118,
   "metadata": {},
   "outputs": [
    {
     "data": {
      "text/plain": [
       "{'AHO',\n",
       " 'ANZ',\n",
       " 'BAR',\n",
       " 'BDI',\n",
       " 'BER',\n",
       " 'BOH',\n",
       " 'BWI',\n",
       " 'CIV',\n",
       " 'CRC',\n",
       " 'DJI',\n",
       " 'ERI',\n",
       " 'EUA',\n",
       " 'EUN',\n",
       " 'FRG',\n",
       " 'GDR',\n",
       " 'GHA',\n",
       " 'GUY',\n",
       " 'HAI',\n",
       " 'HKG',\n",
       " 'IOP',\n",
       " 'IRQ',\n",
       " 'ISV',\n",
       " 'KSA',\n",
       " 'KUW',\n",
       " 'LIB',\n",
       " 'LUX',\n",
       " 'MKD',\n",
       " 'MOZ',\n",
       " 'NAM',\n",
       " 'NIG',\n",
       " 'PAK',\n",
       " 'PAR',\n",
       " 'PER',\n",
       " 'PHI',\n",
       " 'PUR',\n",
       " 'QAT',\n",
       " 'RU1',\n",
       " 'SCG',\n",
       " 'SEN',\n",
       " 'SRI',\n",
       " 'SUR',\n",
       " 'SYR',\n",
       " 'TAN',\n",
       " 'TCH',\n",
       " 'TGA',\n",
       " 'UAE',\n",
       " 'UGA',\n",
       " 'URS',\n",
       " 'URU',\n",
       " 'YUG',\n",
       " 'ZAM',\n",
       " 'ZZX'}"
      ]
     },
     "execution_count": 118,
     "metadata": {},
     "output_type": "execute_result"
    }
   ],
   "source": [
    "set(oo.NOC.unique())-set(oo[(oo.Edition == 2008)][\"NOC\"].unique())"
   ]
  },
  {
   "cell_type": "code",
   "execution_count": 122,
   "metadata": {},
   "outputs": [
    {
     "data": {
      "text/plain": [
       "<matplotlib.axes._subplots.AxesSubplot at 0x1a2291ad50>"
      ]
     },
     "execution_count": 122,
     "metadata": {},
     "output_type": "execute_result"
    },
    {
     "data": {
      "image/png": "[encoded data removed]",
      "text/plain": [
       "<Figure size 432x288 with 1 Axes>"
      ]
     },
     "metadata": {
      "needs_background": "light"
     },
     "output_type": "display_data"
    }
   ],
   "source": [
    "oo.groupby(\"Edition\").size().plot(kind=\"barh\")"
   ]
  },
  {
   "cell_type": "code",
   "execution_count": 146,
   "metadata": {},
   "outputs": [
    {
     "data": {
      "text/html": [
       "<div>\n",
       "<style scoped>\n",
       "    .dataframe tbody tr th:only-of-type {\n",
       "        vertical-align: middle;\n",
       "    }\n",
       "\n",
       "    .dataframe tbody tr th {\n",
       "        vertical-align: top;\n",
       "    }\n",
       "\n",
       "    .dataframe thead tr th {\n",
       "        text-align: left;\n",
       "    }\n",
       "\n",
       "    .dataframe thead tr:last-of-type th {\n",
       "        text-align: right;\n",
       "    }\n",
       "</style>\n",
       "<table border=\"1\" class=\"dataframe\">\n",
       "  <thead>\n",
       "    <tr>\n",
       "      <th></th>\n",
       "      <th colspan=\"2\" halign=\"left\">Edition</th>\n",
       "    </tr>\n",
       "    <tr>\n",
       "      <th></th>\n",
       "      <th>min</th>\n",
       "      <th>max</th>\n",
       "    </tr>\n",
       "    <tr>\n",
       "      <th>NOC</th>\n",
       "      <th></th>\n",
       "      <th></th>\n",
       "    </tr>\n",
       "  </thead>\n",
       "  <tbody>\n",
       "    <tr>\n",
       "      <td>AFG</td>\n",
       "      <td>2008</td>\n",
       "      <td>2008</td>\n",
       "    </tr>\n",
       "    <tr>\n",
       "      <td>AHO</td>\n",
       "      <td>1988</td>\n",
       "      <td>1988</td>\n",
       "    </tr>\n",
       "    <tr>\n",
       "      <td>ALG</td>\n",
       "      <td>1984</td>\n",
       "      <td>2008</td>\n",
       "    </tr>\n",
       "    <tr>\n",
       "      <td>ANZ</td>\n",
       "      <td>1908</td>\n",
       "      <td>1912</td>\n",
       "    </tr>\n",
       "    <tr>\n",
       "      <td>ARG</td>\n",
       "      <td>1924</td>\n",
       "      <td>2008</td>\n",
       "    </tr>\n",
       "    <tr>\n",
       "      <td>...</td>\n",
       "      <td>...</td>\n",
       "      <td>...</td>\n",
       "    </tr>\n",
       "    <tr>\n",
       "      <td>VIE</td>\n",
       "      <td>2000</td>\n",
       "      <td>2008</td>\n",
       "    </tr>\n",
       "    <tr>\n",
       "      <td>YUG</td>\n",
       "      <td>1924</td>\n",
       "      <td>2000</td>\n",
       "    </tr>\n",
       "    <tr>\n",
       "      <td>ZAM</td>\n",
       "      <td>1984</td>\n",
       "      <td>1996</td>\n",
       "    </tr>\n",
       "    <tr>\n",
       "      <td>ZIM</td>\n",
       "      <td>1980</td>\n",
       "      <td>2008</td>\n",
       "    </tr>\n",
       "    <tr>\n",
       "      <td>ZZX</td>\n",
       "      <td>1896</td>\n",
       "      <td>1904</td>\n",
       "    </tr>\n",
       "  </tbody>\n",
       "</table>\n",
       "<p>138 rows × 2 columns</p>\n",
       "</div>"
      ],
      "text/plain": [
       "    Edition      \n",
       "        min   max\n",
       "NOC              \n",
       "AFG    2008  2008\n",
       "AHO    1988  1988\n",
       "ALG    1984  2008\n",
       "ANZ    1908  1912\n",
       "ARG    1924  2008\n",
       "..      ...   ...\n",
       "VIE    2000  2008\n",
       "YUG    1924  2000\n",
       "ZAM    1984  1996\n",
       "ZIM    1980  2008\n",
       "ZZX    1896  1904\n",
       "\n",
       "[138 rows x 2 columns]"
      ]
     },
     "execution_count": 146,
     "metadata": {},
     "output_type": "execute_result"
    }
   ],
   "source": [
    "ddd= oo.groupby(\"NOC\").agg({\"Edition\":[min,max]})\n",
    "ddd"
   ]
  },
  {
   "cell_type": "code",
   "execution_count": 148,
   "metadata": {},
   "outputs": [
    {
     "name": "stdout",
     "output_type": "stream",
     "text": [
      "<class 'pandas.core.frame.DataFrame'>\n",
      "Index: 138 entries, AFG to ZZX\n",
      "Data columns (total 2 columns):\n",
      "(Edition, min)    138 non-null int64\n",
      "(Edition, max)    138 non-null int64\n",
      "dtypes: int64(2)\n",
      "memory usage: 3.2+ KB\n"
     ]
    }
   ],
   "source": [
    "ddd.info()"
   ]
  },
  {
   "cell_type": "code",
   "execution_count": 163,
   "metadata": {},
   "outputs": [
    {
     "data": {
      "text/html": [
       "<div>\n",
       "<style scoped>\n",
       "    .dataframe tbody tr th:only-of-type {\n",
       "        vertical-align: middle;\n",
       "    }\n",
       "\n",
       "    .dataframe tbody tr th {\n",
       "        vertical-align: top;\n",
       "    }\n",
       "\n",
       "    .dataframe thead tr th {\n",
       "        text-align: left;\n",
       "    }\n",
       "\n",
       "    .dataframe thead tr:last-of-type th {\n",
       "        text-align: right;\n",
       "    }\n",
       "</style>\n",
       "<table border=\"1\" class=\"dataframe\">\n",
       "  <thead>\n",
       "    <tr>\n",
       "      <th></th>\n",
       "      <th colspan=\"2\" halign=\"left\">Edition</th>\n",
       "    </tr>\n",
       "    <tr>\n",
       "      <th></th>\n",
       "      <th>min</th>\n",
       "      <th>max</th>\n",
       "    </tr>\n",
       "    <tr>\n",
       "      <th>NOC</th>\n",
       "      <th></th>\n",
       "      <th></th>\n",
       "    </tr>\n",
       "  </thead>\n",
       "  <tbody>\n",
       "    <tr>\n",
       "      <td>RUS</td>\n",
       "      <td>1996</td>\n",
       "      <td>2008</td>\n",
       "    </tr>\n",
       "  </tbody>\n",
       "</table>\n",
       "</div>"
      ],
      "text/plain": [
       "    Edition      \n",
       "        min   max\n",
       "NOC              \n",
       "RUS    1996  2008"
      ]
     },
     "execution_count": 163,
     "metadata": {},
     "output_type": "execute_result"
    }
   ],
   "source": [
    "ddd[ddd.index==\"RUS\"]"
   ]
  },
  {
   "cell_type": "code",
   "execution_count": 174,
   "metadata": {},
   "outputs": [
    {
     "data": {
      "text/plain": [
       "PHELPS, Michael           14\n",
       "SPITZ, Mark                9\n",
       "LEWIS, Carl                9\n",
       "BIONDI, Matthew            8\n",
       "EWRY, Ray                  8\n",
       "                          ..\n",
       "ROGERS, William Lister     1\n",
       "SUTTON, Robert Mandel      1\n",
       "MARTIN, William            1\n",
       "WEST, Jeremy Alan          1\n",
       "JACKSON, John E.           1\n",
       "Name: Athlete, Length: 1567, dtype: int64"
      ]
     },
     "execution_count": 174,
     "metadata": {},
     "output_type": "execute_result"
    }
   ],
   "source": [
    "oo[(oo.NOC ==\"USA\") & (oo.Medal ==\"Gold\")][\"Athlete\"].value_counts()"
   ]
  },
  {
   "cell_type": "code",
   "execution_count": 243,
   "metadata": {},
   "outputs": [
    {
     "data": {
      "text/plain": [
       "<matplotlib.axes._subplots.AxesSubplot at 0x1a2f697950>"
      ]
     },
     "execution_count": 243,
     "metadata": {},
     "output_type": "execute_result"
    },
    {
     "data": {
      "image/png": "[encoded data removed]",
      "text/plain": [
       "<Figure size 432x288 with 1 Axes>"
      ]
     },
     "metadata": {
      "needs_background": "light"
     },
     "output_type": "display_data"
    }
   ],
   "source": [
    "oo[[\"Athlete\",\"Medal\"]][oo.Medal == \"Gold\"].groupby(\"Athlete\").size().sort_values(ascending=False)\n",
    "oo.groupby([\"Athlete\",\"Medal\"]).size().unstack(\"Medal\", fill_value=0).sort_values(\"Gold\",ascending=False).head(5).plot(kind=\"barh\")"
   ]
  },
  {
   "cell_type": "code",
   "execution_count": 247,
   "metadata": {},
   "outputs": [
    {
     "data": {
      "text/html": [
       "<div>\n",
       "<style scoped>\n",
       "    .dataframe tbody tr th:only-of-type {\n",
       "        vertical-align: middle;\n",
       "    }\n",
       "\n",
       "    .dataframe tbody tr th {\n",
       "        vertical-align: top;\n",
       "    }\n",
       "\n",
       "    .dataframe thead th {\n",
       "        text-align: right;\n",
       "    }\n",
       "</style>\n",
       "<table border=\"1\" class=\"dataframe\">\n",
       "  <thead>\n",
       "    <tr style=\"text-align: right;\">\n",
       "      <th>Medal</th>\n",
       "      <th>Bronze</th>\n",
       "      <th>Gold</th>\n",
       "      <th>Silver</th>\n",
       "    </tr>\n",
       "    <tr>\n",
       "      <th>Athlete</th>\n",
       "      <th></th>\n",
       "      <th></th>\n",
       "      <th></th>\n",
       "    </tr>\n",
       "  </thead>\n",
       "  <tbody>\n",
       "    <tr>\n",
       "      <td>AABYE, Edgar</td>\n",
       "      <td>NaN</td>\n",
       "      <td>1.0</td>\n",
       "      <td>NaN</td>\n",
       "    </tr>\n",
       "    <tr>\n",
       "      <td>AALTONEN, Arvo Ossian</td>\n",
       "      <td>2.0</td>\n",
       "      <td>NaN</td>\n",
       "      <td>NaN</td>\n",
       "    </tr>\n",
       "    <tr>\n",
       "      <td>AALTONEN, Paavo Johannes</td>\n",
       "      <td>2.0</td>\n",
       "      <td>3.0</td>\n",
       "      <td>NaN</td>\n",
       "    </tr>\n",
       "    <tr>\n",
       "      <td>AAMODT, Ragnhild</td>\n",
       "      <td>NaN</td>\n",
       "      <td>1.0</td>\n",
       "      <td>NaN</td>\n",
       "    </tr>\n",
       "    <tr>\n",
       "      <td>AANING, Alf Lied</td>\n",
       "      <td>NaN</td>\n",
       "      <td>NaN</td>\n",
       "      <td>1.0</td>\n",
       "    </tr>\n",
       "    <tr>\n",
       "      <td>...</td>\n",
       "      <td>...</td>\n",
       "      <td>...</td>\n",
       "      <td>...</td>\n",
       "    </tr>\n",
       "    <tr>\n",
       "      <td>ÖSTERVOLD, Jan Olsen</td>\n",
       "      <td>NaN</td>\n",
       "      <td>1.0</td>\n",
       "      <td>NaN</td>\n",
       "    </tr>\n",
       "    <tr>\n",
       "      <td>ÖSTERVOLD, Kristian Olsen</td>\n",
       "      <td>NaN</td>\n",
       "      <td>1.0</td>\n",
       "      <td>NaN</td>\n",
       "    </tr>\n",
       "    <tr>\n",
       "      <td>ÖSTERVOLD, Ole Olsen</td>\n",
       "      <td>NaN</td>\n",
       "      <td>1.0</td>\n",
       "      <td>NaN</td>\n",
       "    </tr>\n",
       "    <tr>\n",
       "      <td>ÖSTMO, Ole</td>\n",
       "      <td>2.0</td>\n",
       "      <td>NaN</td>\n",
       "      <td>2.0</td>\n",
       "    </tr>\n",
       "    <tr>\n",
       "      <td>ÖSTRAND, Per-Olof</td>\n",
       "      <td>1.0</td>\n",
       "      <td>NaN</td>\n",
       "      <td>NaN</td>\n",
       "    </tr>\n",
       "  </tbody>\n",
       "</table>\n",
       "<p>21413 rows × 3 columns</p>\n",
       "</div>"
      ],
      "text/plain": [
       "Medal                      Bronze  Gold  Silver\n",
       "Athlete                                        \n",
       "AABYE, Edgar                  NaN   1.0     NaN\n",
       "AALTONEN, Arvo Ossian         2.0   NaN     NaN\n",
       "AALTONEN, Paavo Johannes      2.0   3.0     NaN\n",
       "AAMODT, Ragnhild              NaN   1.0     NaN\n",
       "AANING, Alf Lied              NaN   NaN     1.0\n",
       "...                           ...   ...     ...\n",
       "ÖSTERVOLD, Jan Olsen          NaN   1.0     NaN\n",
       "ÖSTERVOLD, Kristian Olsen     NaN   1.0     NaN\n",
       "ÖSTERVOLD, Ole Olsen          NaN   1.0     NaN\n",
       "ÖSTMO, Ole                    2.0   NaN     2.0\n",
       "ÖSTRAND, Per-Olof             1.0   NaN     NaN\n",
       "\n",
       "[21413 rows x 3 columns]"
      ]
     },
     "execution_count": 247,
     "metadata": {},
     "output_type": "execute_result"
    }
   ],
   "source": [
    "oo.groupby([\"Athlete\",\"Medal\"]).size().unstack()"
   ]
  },
  {
   "cell_type": "code",
   "execution_count": 285,
   "metadata": {},
   "outputs": [
    {
     "data": {
      "text/html": [
       "<div>\n",
       "<style scoped>\n",
       "    .dataframe tbody tr th:only-of-type {\n",
       "        vertical-align: middle;\n",
       "    }\n",
       "\n",
       "    .dataframe tbody tr th {\n",
       "        vertical-align: top;\n",
       "    }\n",
       "\n",
       "    .dataframe thead th {\n",
       "        text-align: right;\n",
       "    }\n",
       "</style>\n",
       "<table border=\"1\" class=\"dataframe\">\n",
       "  <thead>\n",
       "    <tr style=\"text-align: right;\">\n",
       "      <th></th>\n",
       "      <th>Medal</th>\n",
       "      <th>Bronze</th>\n",
       "      <th>Gold</th>\n",
       "      <th>Silver</th>\n",
       "    </tr>\n",
       "    <tr>\n",
       "      <th>Edition</th>\n",
       "      <th>Athlete</th>\n",
       "      <th></th>\n",
       "      <th></th>\n",
       "      <th></th>\n",
       "    </tr>\n",
       "  </thead>\n",
       "  <tbody>\n",
       "    <tr>\n",
       "      <td rowspan=\"5\" valign=\"top\">1896</td>\n",
       "      <td>BLAKE, Arthur</td>\n",
       "      <td>0</td>\n",
       "      <td>0</td>\n",
       "      <td>1</td>\n",
       "    </tr>\n",
       "    <tr>\n",
       "      <td>BURKE, Thomas</td>\n",
       "      <td>0</td>\n",
       "      <td>2</td>\n",
       "      <td>0</td>\n",
       "    </tr>\n",
       "    <tr>\n",
       "      <td>CLARK, Ellery</td>\n",
       "      <td>0</td>\n",
       "      <td>2</td>\n",
       "      <td>0</td>\n",
       "    </tr>\n",
       "    <tr>\n",
       "      <td>CONNOLLY, James</td>\n",
       "      <td>1</td>\n",
       "      <td>1</td>\n",
       "      <td>1</td>\n",
       "    </tr>\n",
       "    <tr>\n",
       "      <td>CURTIS, Thomas</td>\n",
       "      <td>0</td>\n",
       "      <td>1</td>\n",
       "      <td>0</td>\n",
       "    </tr>\n",
       "    <tr>\n",
       "      <td>...</td>\n",
       "      <td>...</td>\n",
       "      <td>...</td>\n",
       "      <td>...</td>\n",
       "      <td>...</td>\n",
       "    </tr>\n",
       "    <tr>\n",
       "      <td rowspan=\"5\" valign=\"top\">2008</td>\n",
       "      <td>WILLOUGHBY, Kim</td>\n",
       "      <td>0</td>\n",
       "      <td>0</td>\n",
       "      <td>1</td>\n",
       "    </tr>\n",
       "    <tr>\n",
       "      <td>WINDES, Elsie</td>\n",
       "      <td>0</td>\n",
       "      <td>0</td>\n",
       "      <td>1</td>\n",
       "    </tr>\n",
       "    <tr>\n",
       "      <td>WINEBERG, Mary</td>\n",
       "      <td>0</td>\n",
       "      <td>1</td>\n",
       "      <td>0</td>\n",
       "    </tr>\n",
       "    <tr>\n",
       "      <td>WRIGHT, Adam</td>\n",
       "      <td>0</td>\n",
       "      <td>0</td>\n",
       "      <td>1</td>\n",
       "    </tr>\n",
       "    <tr>\n",
       "      <td>ZAGUNIS, Mariel</td>\n",
       "      <td>1</td>\n",
       "      <td>1</td>\n",
       "      <td>0</td>\n",
       "    </tr>\n",
       "  </tbody>\n",
       "</table>\n",
       "<p>3549 rows × 3 columns</p>\n",
       "</div>"
      ],
      "text/plain": [
       "Medal                    Bronze  Gold  Silver\n",
       "Edition Athlete                              \n",
       "1896    BLAKE, Arthur         0     0       1\n",
       "        BURKE, Thomas         0     2       0\n",
       "        CLARK, Ellery         0     2       0\n",
       "        CONNOLLY, James       1     1       1\n",
       "        CURTIS, Thomas        0     1       0\n",
       "...                         ...   ...     ...\n",
       "2008    WILLOUGHBY, Kim       0     0       1\n",
       "        WINDES, Elsie         0     0       1\n",
       "        WINEBERG, Mary        0     1       0\n",
       "        WRIGHT, Adam          0     0       1\n",
       "        ZAGUNIS, Mariel       1     1       0\n",
       "\n",
       "[3549 rows x 3 columns]"
      ]
     },
     "execution_count": 285,
     "metadata": {},
     "output_type": "execute_result"
    }
   ],
   "source": [
    "cc=oo[oo.NOC==\"USA\"].groupby([\"Edition\",\"Athlete\",\"Medal\"]).size().unstack(fill_value=0)\n",
    "cc"
   ]
  },
  {
   "cell_type": "code",
   "execution_count": 286,
   "metadata": {},
   "outputs": [],
   "source": [
    "cc[\"Total\"]=cc[\"Bronze\"]+cc[\"Gold\"]+cc[\"Silver\"]"
   ]
  },
  {
   "cell_type": "code",
   "execution_count": 323,
   "metadata": {},
   "outputs": [
    {
     "data": {
      "text/plain": [
       "Edition  Athlete                 Discipline     \n",
       "2008     PHELPS, Michael         Archery            0\n",
       "                                 Artistic G.        0\n",
       "                                 Athletics          0\n",
       "                                 BMX                0\n",
       "                                 Baseball           0\n",
       "                                                   ..\n",
       "1972     DEARDRUFF, Deena Diana  Water polo         0\n",
       "                                 Weightlifting      0\n",
       "                                 Wrestling Free.    0\n",
       "                                 Wrestling Gre-R    0\n",
       "                                 Total              1\n",
       "Length: 163254, dtype: int64"
      ]
     },
     "execution_count": 323,
     "metadata": {},
     "output_type": "execute_result"
    }
   ],
   "source": [
    "dd=oo[oo.NOC==\"USA\"].groupby([\"Edition\",\"Athlete\",\"Discipline\"]).size().unstack(fill_value=0)\n",
    "dd[\"Total\"]=cc[\"Total\"]\n"
   ]
  },
  {
   "cell_type": "code",
   "execution_count": null,
   "metadata": {},
   "outputs": [],
   "source": []
  },
  {
   "cell_type": "code",
   "execution_count": null,
   "metadata": {},
   "outputs": [],
   "source": []
  }
 ],
 "metadata": {
  "kernelspec": {
   "display_name": "Python 3",
   "language": "python",
   "name": "python3"
  },
  "language_info": {
   "codemirror_mode": {
    "name": "ipython",
    "version": 3
   },
   "file_extension": ".py",
   "mimetype": "text/x-python",
   "name": "python",
   "nbconvert_exporter": "python",
   "pygments_lexer": "ipython3",
   "version": "3.7.4"
  }
 },
 "nbformat": 4,
 "nbformat_minor": 2
}
